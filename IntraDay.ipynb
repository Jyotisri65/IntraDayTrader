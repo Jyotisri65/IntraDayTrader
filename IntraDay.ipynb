{
 "cells": [
  {
   "cell_type": "code",
   "execution_count": 13,
   "metadata": {},
   "outputs": [],
   "source": [
    "import json\n",
    "import requests\n",
    "from bs4 import BeautifulSoup\n",
    "import pandas as pd\n",
    "from pandas.io.json import json_normalize"
   ]
  },
  {
   "cell_type": "code",
   "execution_count": 2,
   "metadata": {},
   "outputs": [],
   "source": [
    "headers = {'User-Agent': 'Mozilla/5.0 (X11; Ubuntu; Linux x86_64; rv:80.0) Gecko/20100101 Firefox/80.0'}\n",
    "url = 'https://www.nseindia.com/api/option-chain-equities?symbol=RELIANCE'\n",
    "with requests.session() as s:\n",
    "\n",
    "    # load cookies:\n",
    "    s.get('https://www.nseindia.com/', headers=headers)\n",
    "\n",
    "    # get data:\n",
    "    data = s.get(url, headers=headers)"
   ]
  },
  {
   "cell_type": "code",
   "execution_count": 8,
   "metadata": {},
   "outputs": [],
   "source": [
    "jd = data.json()"
   ]
  },
  {
   "cell_type": "code",
   "execution_count": 14,
   "metadata": {},
   "outputs": [],
   "source": [
    "df = json_normalize(jd['records']['data'])"
   ]
  },
  {
   "cell_type": "code",
   "execution_count": 15,
   "metadata": {},
   "outputs": [
    {
     "data": {
      "text/html": [
       "<div>\n",
       "<style scoped>\n",
       "    .dataframe tbody tr th:only-of-type {\n",
       "        vertical-align: middle;\n",
       "    }\n",
       "\n",
       "    .dataframe tbody tr th {\n",
       "        vertical-align: top;\n",
       "    }\n",
       "\n",
       "    .dataframe thead th {\n",
       "        text-align: right;\n",
       "    }\n",
       "</style>\n",
       "<table border=\"1\" class=\"dataframe\">\n",
       "  <thead>\n",
       "    <tr style=\"text-align: right;\">\n",
       "      <th></th>\n",
       "      <th>CE.askPrice</th>\n",
       "      <th>CE.askQty</th>\n",
       "      <th>CE.bidQty</th>\n",
       "      <th>CE.bidprice</th>\n",
       "      <th>CE.change</th>\n",
       "      <th>CE.changeinOpenInterest</th>\n",
       "      <th>CE.expiryDate</th>\n",
       "      <th>CE.identifier</th>\n",
       "      <th>CE.impliedVolatility</th>\n",
       "      <th>CE.lastPrice</th>\n",
       "      <th>...</th>\n",
       "      <th>PE.pChange</th>\n",
       "      <th>PE.pchangeinOpenInterest</th>\n",
       "      <th>PE.strikePrice</th>\n",
       "      <th>PE.totalBuyQuantity</th>\n",
       "      <th>PE.totalSellQuantity</th>\n",
       "      <th>PE.totalTradedVolume</th>\n",
       "      <th>PE.underlying</th>\n",
       "      <th>PE.underlyingValue</th>\n",
       "      <th>expiryDate</th>\n",
       "      <th>strikePrice</th>\n",
       "    </tr>\n",
       "  </thead>\n",
       "  <tbody>\n",
       "    <tr>\n",
       "      <th>0</th>\n",
       "      <td>571.85</td>\n",
       "      <td>2525.0</td>\n",
       "      <td>11615.0</td>\n",
       "      <td>495.75</td>\n",
       "      <td>0.0</td>\n",
       "      <td>0.0</td>\n",
       "      <td>29-Oct-2020</td>\n",
       "      <td>OPTSTKRELIANCE29-10-2020CE1620.00</td>\n",
       "      <td>0.0</td>\n",
       "      <td>640.0</td>\n",
       "      <td>...</td>\n",
       "      <td>-5.263158</td>\n",
       "      <td>-1.41844</td>\n",
       "      <td>1620.0</td>\n",
       "      <td>28785.0</td>\n",
       "      <td>23735.0</td>\n",
       "      <td>9.0</td>\n",
       "      <td>RELIANCE</td>\n",
       "      <td>2178.0</td>\n",
       "      <td>29-Oct-2020</td>\n",
       "      <td>1620</td>\n",
       "    </tr>\n",
       "    <tr>\n",
       "      <th>1</th>\n",
       "      <td>652.50</td>\n",
       "      <td>11615.0</td>\n",
       "      <td>11615.0</td>\n",
       "      <td>505.40</td>\n",
       "      <td>0.0</td>\n",
       "      <td>0.0</td>\n",
       "      <td>26-Nov-2020</td>\n",
       "      <td>OPTSTKRELIANCE26-11-2020CE1620.00</td>\n",
       "      <td>0.0</td>\n",
       "      <td>0.0</td>\n",
       "      <td>...</td>\n",
       "      <td>0.000000</td>\n",
       "      <td>0.00000</td>\n",
       "      <td>1620.0</td>\n",
       "      <td>505.0</td>\n",
       "      <td>1010.0</td>\n",
       "      <td>0.0</td>\n",
       "      <td>RELIANCE</td>\n",
       "      <td>2178.0</td>\n",
       "      <td>26-Nov-2020</td>\n",
       "      <td>1620</td>\n",
       "    </tr>\n",
       "    <tr>\n",
       "      <th>2</th>\n",
       "      <td>632.10</td>\n",
       "      <td>11615.0</td>\n",
       "      <td>11615.0</td>\n",
       "      <td>487.90</td>\n",
       "      <td>0.0</td>\n",
       "      <td>0.0</td>\n",
       "      <td>26-Nov-2020</td>\n",
       "      <td>OPTSTKRELIANCE26-11-2020CE1640.00</td>\n",
       "      <td>0.0</td>\n",
       "      <td>0.0</td>\n",
       "      <td>...</td>\n",
       "      <td>NaN</td>\n",
       "      <td>NaN</td>\n",
       "      <td>NaN</td>\n",
       "      <td>NaN</td>\n",
       "      <td>NaN</td>\n",
       "      <td>NaN</td>\n",
       "      <td>NaN</td>\n",
       "      <td>NaN</td>\n",
       "      <td>26-Nov-2020</td>\n",
       "      <td>1640</td>\n",
       "    </tr>\n",
       "    <tr>\n",
       "      <th>3</th>\n",
       "      <td>613.85</td>\n",
       "      <td>11615.0</td>\n",
       "      <td>11615.0</td>\n",
       "      <td>490.85</td>\n",
       "      <td>0.0</td>\n",
       "      <td>0.0</td>\n",
       "      <td>29-Oct-2020</td>\n",
       "      <td>OPTSTKRELIANCE29-10-2020CE1640.00</td>\n",
       "      <td>0.0</td>\n",
       "      <td>540.0</td>\n",
       "      <td>...</td>\n",
       "      <td>0.000000</td>\n",
       "      <td>0.00000</td>\n",
       "      <td>1640.0</td>\n",
       "      <td>4040.0</td>\n",
       "      <td>3030.0</td>\n",
       "      <td>0.0</td>\n",
       "      <td>RELIANCE</td>\n",
       "      <td>2178.0</td>\n",
       "      <td>29-Oct-2020</td>\n",
       "      <td>1640</td>\n",
       "    </tr>\n",
       "    <tr>\n",
       "      <th>4</th>\n",
       "      <td>591.90</td>\n",
       "      <td>11615.0</td>\n",
       "      <td>11615.0</td>\n",
       "      <td>473.35</td>\n",
       "      <td>0.0</td>\n",
       "      <td>0.0</td>\n",
       "      <td>29-Oct-2020</td>\n",
       "      <td>OPTSTKRELIANCE29-10-2020CE1660.00</td>\n",
       "      <td>0.0</td>\n",
       "      <td>0.0</td>\n",
       "      <td>...</td>\n",
       "      <td>0.000000</td>\n",
       "      <td>0.00000</td>\n",
       "      <td>1660.0</td>\n",
       "      <td>3030.0</td>\n",
       "      <td>3535.0</td>\n",
       "      <td>0.0</td>\n",
       "      <td>RELIANCE</td>\n",
       "      <td>2178.0</td>\n",
       "      <td>29-Oct-2020</td>\n",
       "      <td>1660</td>\n",
       "    </tr>\n",
       "  </tbody>\n",
       "</table>\n",
       "<p>5 rows × 40 columns</p>\n",
       "</div>"
      ],
      "text/plain": [
       "   CE.askPrice  CE.askQty  CE.bidQty  CE.bidprice  CE.change  \\\n",
       "0       571.85     2525.0    11615.0       495.75        0.0   \n",
       "1       652.50    11615.0    11615.0       505.40        0.0   \n",
       "2       632.10    11615.0    11615.0       487.90        0.0   \n",
       "3       613.85    11615.0    11615.0       490.85        0.0   \n",
       "4       591.90    11615.0    11615.0       473.35        0.0   \n",
       "\n",
       "   CE.changeinOpenInterest CE.expiryDate                      CE.identifier  \\\n",
       "0                      0.0   29-Oct-2020  OPTSTKRELIANCE29-10-2020CE1620.00   \n",
       "1                      0.0   26-Nov-2020  OPTSTKRELIANCE26-11-2020CE1620.00   \n",
       "2                      0.0   26-Nov-2020  OPTSTKRELIANCE26-11-2020CE1640.00   \n",
       "3                      0.0   29-Oct-2020  OPTSTKRELIANCE29-10-2020CE1640.00   \n",
       "4                      0.0   29-Oct-2020  OPTSTKRELIANCE29-10-2020CE1660.00   \n",
       "\n",
       "   CE.impliedVolatility  CE.lastPrice  ...  PE.pChange  \\\n",
       "0                   0.0         640.0  ...   -5.263158   \n",
       "1                   0.0           0.0  ...    0.000000   \n",
       "2                   0.0           0.0  ...         NaN   \n",
       "3                   0.0         540.0  ...    0.000000   \n",
       "4                   0.0           0.0  ...    0.000000   \n",
       "\n",
       "   PE.pchangeinOpenInterest  PE.strikePrice  PE.totalBuyQuantity  \\\n",
       "0                  -1.41844          1620.0              28785.0   \n",
       "1                   0.00000          1620.0                505.0   \n",
       "2                       NaN             NaN                  NaN   \n",
       "3                   0.00000          1640.0               4040.0   \n",
       "4                   0.00000          1660.0               3030.0   \n",
       "\n",
       "   PE.totalSellQuantity  PE.totalTradedVolume  PE.underlying  \\\n",
       "0               23735.0                   9.0       RELIANCE   \n",
       "1                1010.0                   0.0       RELIANCE   \n",
       "2                   NaN                   NaN            NaN   \n",
       "3                3030.0                   0.0       RELIANCE   \n",
       "4                3535.0                   0.0       RELIANCE   \n",
       "\n",
       "  PE.underlyingValue   expiryDate  strikePrice  \n",
       "0             2178.0  29-Oct-2020         1620  \n",
       "1             2178.0  26-Nov-2020         1620  \n",
       "2                NaN  26-Nov-2020         1640  \n",
       "3             2178.0  29-Oct-2020         1640  \n",
       "4             2178.0  29-Oct-2020         1660  \n",
       "\n",
       "[5 rows x 40 columns]"
      ]
     },
     "execution_count": 15,
     "metadata": {},
     "output_type": "execute_result"
    }
   ],
   "source": [
    "df.head()"
   ]
  },
  {
   "cell_type": "code",
   "execution_count": 17,
   "metadata": {},
   "outputs": [
    {
     "data": {
      "text/plain": [
       "Index(['CE.askPrice', 'CE.askQty', 'CE.bidQty', 'CE.bidprice', 'CE.change',\n",
       "       'CE.changeinOpenInterest', 'CE.expiryDate', 'CE.identifier',\n",
       "       'CE.impliedVolatility', 'CE.lastPrice', 'CE.openInterest', 'CE.pChange',\n",
       "       'CE.pchangeinOpenInterest', 'CE.strikePrice', 'CE.totalBuyQuantity',\n",
       "       'CE.totalSellQuantity', 'CE.totalTradedVolume', 'CE.underlying',\n",
       "       'CE.underlyingValue', 'PE.askPrice', 'PE.askQty', 'PE.bidQty',\n",
       "       'PE.bidprice', 'PE.change', 'PE.changeinOpenInterest', 'PE.expiryDate',\n",
       "       'PE.identifier', 'PE.impliedVolatility', 'PE.lastPrice',\n",
       "       'PE.openInterest', 'PE.pChange', 'PE.pchangeinOpenInterest',\n",
       "       'PE.strikePrice', 'PE.totalBuyQuantity', 'PE.totalSellQuantity',\n",
       "       'PE.totalTradedVolume', 'PE.underlying', 'PE.underlyingValue',\n",
       "       'expiryDate', 'strikePrice'],\n",
       "      dtype='object')"
      ]
     },
     "execution_count": 17,
     "metadata": {},
     "output_type": "execute_result"
    }
   ],
   "source": [
    "df.columns"
   ]
  },
  {
   "cell_type": "code",
   "execution_count": 27,
   "metadata": {},
   "outputs": [
    {
     "data": {
      "text/plain": [
       "Int64Index([  0,   1,   2,   3,   4,   5,   6,   7,   8,   9,\n",
       "            ...\n",
       "            141, 142, 143, 144, 145, 146, 147, 148, 149, 150],\n",
       "           dtype='int64', length=145)"
      ]
     },
     "execution_count": 27,
     "metadata": {},
     "output_type": "execute_result"
    }
   ],
   "source": [
    "df['CE.openInterest'].dropna().index"
   ]
  },
  {
   "cell_type": "code",
   "execution_count": 19,
   "metadata": {},
   "outputs": [],
   "source": [
    "import seaborn as sns"
   ]
  },
  {
   "cell_type": "code",
   "execution_count": 25,
   "metadata": {},
   "outputs": [
    {
     "data": {
      "text/plain": [
       "<matplotlib.axes._subplots.AxesSubplot at 0x1c0a7bebef0>"
      ]
     },
     "execution_count": 25,
     "metadata": {},
     "output_type": "execute_result"
    },
    {
     "data": {
      "image/png": "[encoded data removed]",
      "text/plain": [
       "<Figure size 432x288 with 1 Axes>"
      ]
     },
     "metadata": {
      "needs_background": "light"
     },
     "output_type": "display_data"
    }
   ],
   "source": [
    "#snsdf=sns.load_dataset('df')\n",
    "sns.distplot(df['CE.openInterest'].dropna())"
   ]
  },
  {
   "cell_type": "code",
   "execution_count": 33,
   "metadata": {},
   "outputs": [],
   "source": [
    "yy = df['CE.openInterest'].dropna()"
   ]
  },
  {
   "cell_type": "code",
   "execution_count": 35,
   "metadata": {},
   "outputs": [
    {
     "data": {
      "text/plain": [
       "pandas.core.series.Series"
      ]
     },
     "execution_count": 35,
     "metadata": {},
     "output_type": "execute_result"
    }
   ],
   "source": [
    "type(yy)"
   ]
  },
  {
   "cell_type": "code",
   "execution_count": 50,
   "metadata": {},
   "outputs": [
    {
     "data": {
      "text/plain": [
       "<matplotlib.axes._subplots.AxesSubplot at 0x1c0a7f2ab00>"
      ]
     },
     "execution_count": 50,
     "metadata": {},
     "output_type": "execute_result"
    },
    {
     "data": {
      "image/png": "[encoded data removed]",
      "text/plain": [
       "<Figure size 432x288 with 1 Axes>"
      ]
     },
     "metadata": {
      "needs_background": "light"
     },
     "output_type": "display_data"
    }
   ],
   "source": [
    "#sns.set_theme(style=\"darkgrid\")\n",
    "\n",
    "# Load an example dataset with long-form data\n",
    "#fmri = sns.load_dataset(\"fmri\")\n",
    "\n",
    "# Plot the responses for different events and regions\n",
    "sns.lineplot(x=df.index,y=df['CE.openInterest'],\n",
    "             data=df)"
   ]
  },
  {
   "cell_type": "code",
   "execution_count": 46,
   "metadata": {},
   "outputs": [
    {
     "ename": "KeyError",
     "evalue": "-1",
     "output_type": "error",
     "traceback": [
      "\u001b[1;31m---------------------------------------------------------------------------\u001b[0m",
      "\u001b[1;31mKeyError\u001b[0m                                  Traceback (most recent call last)",
      "\u001b[1;32m<ipython-input-46-30717041b72d>\u001b[0m in \u001b[0;36m<module>\u001b[1;34m\u001b[0m\n\u001b[1;32m----> 1\u001b[1;33m \u001b[0mdf\u001b[0m\u001b[1;33m[\u001b[0m\u001b[1;34m'CE.openInterest'\u001b[0m\u001b[1;33m]\u001b[0m\u001b[1;33m[\u001b[0m\u001b[1;33m-\u001b[0m\u001b[1;36m1\u001b[0m\u001b[1;33m]\u001b[0m\u001b[1;33m\u001b[0m\u001b[1;33m\u001b[0m\u001b[0m\n\u001b[0m",
      "\u001b[1;32m~\\Anaconda3\\lib\\site-packages\\pandas\\core\\series.py\u001b[0m in \u001b[0;36m__getitem__\u001b[1;34m(self, key)\u001b[0m\n\u001b[0;32m    866\u001b[0m         \u001b[0mkey\u001b[0m \u001b[1;33m=\u001b[0m \u001b[0mcom\u001b[0m\u001b[1;33m.\u001b[0m\u001b[0mapply_if_callable\u001b[0m\u001b[1;33m(\u001b[0m\u001b[0mkey\u001b[0m\u001b[1;33m,\u001b[0m \u001b[0mself\u001b[0m\u001b[1;33m)\u001b[0m\u001b[1;33m\u001b[0m\u001b[1;33m\u001b[0m\u001b[0m\n\u001b[0;32m    867\u001b[0m         \u001b[1;32mtry\u001b[0m\u001b[1;33m:\u001b[0m\u001b[1;33m\u001b[0m\u001b[1;33m\u001b[0m\u001b[0m\n\u001b[1;32m--> 868\u001b[1;33m             \u001b[0mresult\u001b[0m \u001b[1;33m=\u001b[0m \u001b[0mself\u001b[0m\u001b[1;33m.\u001b[0m\u001b[0mindex\u001b[0m\u001b[1;33m.\u001b[0m\u001b[0mget_value\u001b[0m\u001b[1;33m(\u001b[0m\u001b[0mself\u001b[0m\u001b[1;33m,\u001b[0m \u001b[0mkey\u001b[0m\u001b[1;33m)\u001b[0m\u001b[1;33m\u001b[0m\u001b[1;33m\u001b[0m\u001b[0m\n\u001b[0m\u001b[0;32m    869\u001b[0m \u001b[1;33m\u001b[0m\u001b[0m\n\u001b[0;32m    870\u001b[0m             \u001b[1;32mif\u001b[0m \u001b[1;32mnot\u001b[0m \u001b[0mis_scalar\u001b[0m\u001b[1;33m(\u001b[0m\u001b[0mresult\u001b[0m\u001b[1;33m)\u001b[0m\u001b[1;33m:\u001b[0m\u001b[1;33m\u001b[0m\u001b[1;33m\u001b[0m\u001b[0m\n",
      "\u001b[1;32m~\\Anaconda3\\lib\\site-packages\\pandas\\core\\indexes\\base.py\u001b[0m in \u001b[0;36mget_value\u001b[1;34m(self, series, key)\u001b[0m\n\u001b[0;32m   4373\u001b[0m         \u001b[1;32mtry\u001b[0m\u001b[1;33m:\u001b[0m\u001b[1;33m\u001b[0m\u001b[1;33m\u001b[0m\u001b[0m\n\u001b[0;32m   4374\u001b[0m             return self._engine.get_value(s, k,\n\u001b[1;32m-> 4375\u001b[1;33m                                           tz=getattr(series.dtype, 'tz', None))\n\u001b[0m\u001b[0;32m   4376\u001b[0m         \u001b[1;32mexcept\u001b[0m \u001b[0mKeyError\u001b[0m \u001b[1;32mas\u001b[0m \u001b[0me1\u001b[0m\u001b[1;33m:\u001b[0m\u001b[1;33m\u001b[0m\u001b[1;33m\u001b[0m\u001b[0m\n\u001b[0;32m   4377\u001b[0m             \u001b[1;32mif\u001b[0m \u001b[0mlen\u001b[0m\u001b[1;33m(\u001b[0m\u001b[0mself\u001b[0m\u001b[1;33m)\u001b[0m \u001b[1;33m>\u001b[0m \u001b[1;36m0\u001b[0m \u001b[1;32mand\u001b[0m \u001b[1;33m(\u001b[0m\u001b[0mself\u001b[0m\u001b[1;33m.\u001b[0m\u001b[0mholds_integer\u001b[0m\u001b[1;33m(\u001b[0m\u001b[1;33m)\u001b[0m \u001b[1;32mor\u001b[0m \u001b[0mself\u001b[0m\u001b[1;33m.\u001b[0m\u001b[0mis_boolean\u001b[0m\u001b[1;33m(\u001b[0m\u001b[1;33m)\u001b[0m\u001b[1;33m)\u001b[0m\u001b[1;33m:\u001b[0m\u001b[1;33m\u001b[0m\u001b[1;33m\u001b[0m\u001b[0m\n",
      "\u001b[1;32mpandas/_libs/index.pyx\u001b[0m in \u001b[0;36mpandas._libs.index.IndexEngine.get_value\u001b[1;34m()\u001b[0m\n",
      "\u001b[1;32mpandas/_libs/index.pyx\u001b[0m in \u001b[0;36mpandas._libs.index.IndexEngine.get_value\u001b[1;34m()\u001b[0m\n",
      "\u001b[1;32mpandas/_libs/index.pyx\u001b[0m in \u001b[0;36mpandas._libs.index.IndexEngine.get_loc\u001b[1;34m()\u001b[0m\n",
      "\u001b[1;32mpandas/_libs/hashtable_class_helper.pxi\u001b[0m in \u001b[0;36mpandas._libs.hashtable.Int64HashTable.get_item\u001b[1;34m()\u001b[0m\n",
      "\u001b[1;32mpandas/_libs/hashtable_class_helper.pxi\u001b[0m in \u001b[0;36mpandas._libs.hashtable.Int64HashTable.get_item\u001b[1;34m()\u001b[0m\n",
      "\u001b[1;31mKeyError\u001b[0m: -1"
     ]
    }
   ],
   "source": [
    "df['CE.openInterest'][-1]"
   ]
  },
  {
   "cell_type": "code",
   "execution_count": null,
   "metadata": {},
   "outputs": [],
   "source": []
  }
 ],
 "metadata": {
  "kernelspec": {
   "display_name": "Python 3",
   "language": "python",
   "name": "python3"
  },
  "language_info": {
   "codemirror_mode": {
    "name": "ipython",
    "version": 3
   },
   "file_extension": ".py",
   "mimetype": "text/x-python",
   "name": "python",
   "nbconvert_exporter": "python",
   "pygments_lexer": "ipython3",
   "version": "3.7.3"
  }
 },
 "nbformat": 4,
 "nbformat_minor": 2
}
